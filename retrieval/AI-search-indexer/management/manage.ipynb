{
 "cells": [
  {
   "cell_type": "code",
   "execution_count": 2,
   "metadata": {},
   "outputs": [
    {
     "name": "stdout",
     "output_type": "stream",
     "text": [
      "Requirement already satisfied: python-dotenv in /home/lisheard/miniforge3/envs/aml_310/lib/python3.10/site-packages (1.0.1)\n",
      "Note: you may need to restart the kernel to use updated packages.\n"
     ]
    }
   ],
   "source": [
    "pip install python-dotenv"
   ]
  },
  {
   "cell_type": "code",
   "execution_count": 8,
   "metadata": {},
   "outputs": [
    {
     "data": {
      "text/plain": [
       "True"
      ]
     },
     "execution_count": 8,
     "metadata": {},
     "output_type": "execute_result"
    }
   ],
   "source": [
    " \n",
    "from dotenv import load_dotenv\n",
    "load_dotenv()"
   ]
  },
  {
   "cell_type": "code",
   "execution_count": 104,
   "metadata": {},
   "outputs": [],
   "source": [
    "search_config = {  \n",
    "    'service_name': os.environ.get('AZURE_AI_SEARCH_SERVICE_NAME'),  \n",
    "    'api_key': os.environ.get('AZURE_AI_SEARCH_KEY'),  \n",
    "    'api_version': '2024-05-01-preview' \n",
    "}  "
   ]
  },
  {
   "cell_type": "code",
   "execution_count": 54,
   "metadata": {},
   "outputs": [],
   "source": [
    "\n",
    "import os\n",
    "import requests  \n",
    "import json \n",
    "\n",
    "# generic helper function\n",
    "def create_or_update(search_config, asset_type, definitionfile, overrides): \n",
    "   \n",
    "    # Load the item definition from a file    \n",
    "    with open(definitionfile, 'r') as f:\n",
    "        payload = json.load(f)\n",
    "    if overrides:\n",
    "        payload.update(overrides)\n",
    "\n",
    "    # URL for the Azure Search data source  \n",
    "    url = f'https://{search_config[\"service_name\"]}.search.windows.net/{asset_type}/{payload[\"name\"]}?api-version={search_config[\"api_version\"]}'  \n",
    "  \n",
    "    # Headers  \n",
    "    headers = {  \n",
    "        'Content-Type': 'application/json',  \n",
    "        'api-key': search_config[\"api_key\"]  \n",
    "    }  \n",
    "  \n",
    "    payload_json = json.dumps(payload)\n",
    "\n",
    "    # Send the POST request to create the data source  \n",
    "    response = requests.put(url, headers=headers, data=payload_json)  \n",
    "  \n",
    "    # Check the response  \n",
    "    if response.status_code in [200, 201, 204]:\n",
    "        print(f\"{asset_type}: {payload['name']} created successfully.\")  \n",
    "    else:  \n",
    "        print(f\"Failed. Status code: {response.status_code}, Response: {response}\")\n",
    "        print(response.text)\n",
    "  \n"
   ]
  },
  {
   "cell_type": "code",
   "execution_count": 55,
   "metadata": {},
   "outputs": [
    {
     "name": "stdout",
     "output_type": "stream",
     "text": [
      "datasources: pdf-samples created successfully.\n"
     ]
    }
   ],
   "source": [
    "# create the datasource\n",
    "overrides = {\n",
    "    \"name\": \"pdf-samples\",\n",
    "    \"credentials\": {\n",
    "      \"connectionString\": os.environ.get('AZURE_STORAGE_CONNECTION_STRING')\n",
    "    },\n",
    "}\n",
    "\n",
    "create_or_update(search_config,\"datasources\", definitionfile='../definitions/datasource.json', overrides=overrides )"
   ]
  },
  {
   "cell_type": "code",
   "execution_count": 56,
   "metadata": {},
   "outputs": [
    {
     "name": "stdout",
     "output_type": "stream",
     "text": [
      "indexes: example-index-2 created successfully.\n"
     ]
    }
   ],
   "source": [
    "# create the index\n",
    "overrides = {\n",
    "    \"name\": \"example-index-2\",\n",
    "}\n",
    "\n",
    "create_or_update(search_config,\"indexes\", definitionfile='../definitions/index.json', overrides=overrides )"
   ]
  },
  {
   "cell_type": "code",
   "execution_count": 59,
   "metadata": {},
   "outputs": [
    {
     "name": "stdout",
     "output_type": "stream",
     "text": [
      "skillsets: example-skillset created successfully.\n"
     ]
    }
   ],
   "source": [
    "# create the skillset\n",
    "# NOTE: please update your openai key in the skillset.json file manually for now \n",
    "overrides = {\n",
    "    \"name\": \"example-skillset\",\n",
    "}\n",
    "\n",
    "create_or_update(search_config,\"skillsets\", definitionfile='../definitions/skillset.json', overrides=overrides )"
   ]
  },
  {
   "cell_type": "code",
   "execution_count": 60,
   "metadata": {},
   "outputs": [
    {
     "name": "stdout",
     "output_type": "stream",
     "text": [
      "indexers: example-indexer created successfully.\n"
     ]
    }
   ],
   "source": [
    "# create the indexer\n",
    "overrides = {\n",
    "    \"name\": \"example-indexer\",\n",
    "}\n",
    "\n",
    "create_or_update(search_config,\"indexers\", definitionfile='../definitions/indexer.json', overrides=overrides )"
   ]
  },
  {
   "cell_type": "code",
   "execution_count": 150,
   "metadata": {},
   "outputs": [],
   "source": [
    "def indexer_operations(search_config, indexer_name, operation):\n",
    "    '''Performs operations on an indexer\n",
    "    \n",
    "    Args:\n",
    "    search_config (dict): The search service configuration\n",
    "    indexer_name (str): The name of the indexer\n",
    "    operation (str): The operation to perform on the indexer (e.g. run, reset, status)\n",
    "    \n",
    "    '''\n",
    "\n",
    "    url = f'https://{search_config[\"service_name\"]}.search.windows.net/indexers/{indexer_name}/search.{operation}?api-version={search_config[\"api_version\"]}'\n",
    "\n",
    "    headers = {\n",
    "        'Content-Type': 'application/json',\n",
    "        'api-key': search_config[\"api_key\"]\n",
    "    }\n",
    "\n",
    "    if operation == 'status':\n",
    "        response = requests.get(url, headers=headers)\n",
    "    else:\n",
    "        response = requests.post(url, headers=headers)\n",
    "\n",
    "    if response.status_code in [200, 202, 201, 204]:\n",
    "        print(f'Success: {response}')\n",
    "        if operation == \"status\":\n",
    "            print(f\"Indexer {indexer_name} {operation}:\\n\\n--- {response.json()['lastResult']['status']} ---\")\n",
    "            print(f\" - Items processed: {response.json()['lastResult']['itemsProcessed'] or 'N/A'}\")\n",
    "            print(f\" - Items failed: {response.json()['lastResult']['itemsFailed'] or 'N/A'}\")\n",
    "\n",
    "        print(response.text)\n",
    "    else:\n",
    "        print(f\"Failed. Status code: {response.status_code}, Response: {response}\")\n",
    "        print(response)\n",
    "        print(response.text)\n",
    "\n"
   ]
  },
  {
   "cell_type": "code",
   "execution_count": 153,
   "metadata": {},
   "outputs": [
    {
     "name": "stdout",
     "output_type": "stream",
     "text": [
      "Success: <Response [200]>\n",
      "Indexer example-indexer status:\n",
      "\n",
      "--- success ---\n",
      " - Items processed: N/A\n",
      " - Items failed: N/A\n",
      "{\"@odata.context\":\"https://aisearch-uk-basic.search.windows.net/$metadata#Microsoft.Azure.Search.V2024_05_01_Preview.IndexerExecutionInfo\",\"name\":\"example-indexer\",\"status\":\"running\",\"lastResult\":{\"status\":\"success\",\"statusDetail\":null,\"errorMessage\":null,\"startTime\":\"2024-07-29T18:44:44.626Z\",\"endTime\":\"2024-07-29T18:44:44.89Z\",\"itemsProcessed\":0,\"itemsFailed\":0,\"initialTrackingState\":\"{\\r\\n  \\\"lastFullEnumerationStartTime\\\": \\\"2024-07-29T18:42:01.056Z\\\",\\r\\n  \\\"lastAttemptedEnumerationStartTime\\\": \\\"2024-07-29T18:44:44.651Z\\\",\\r\\n  \\\"nameHighWaterMark\\\": null\\r\\n}\",\"finalTrackingState\":\"{\\\"LastFullEnumerationStartTime\\\":\\\"2024-07-29T18:44:14.6511448+00:00\\\",\\\"LastAttemptedEnumerationStartTime\\\":\\\"2024-07-29T18:44:14.6511448+00:00\\\",\\\"NameHighWaterMark\\\":null}\",\"mode\":\"indexingAllDocs\",\"errors\":[],\"warnings\":[],\"metrics\":null},\"executionHistory\":[{\"status\":\"success\",\"statusDetail\":null,\"errorMessage\":null,\"startTime\":\"2024-07-29T18:44:44.626Z\",\"endTime\":\"2024-07-29T18:44:44.89Z\",\"itemsProcessed\":0,\"itemsFailed\":0,\"initialTrackingState\":\"{\\r\\n  \\\"lastFullEnumerationStartTime\\\": \\\"2024-07-29T18:42:01.056Z\\\",\\r\\n  \\\"lastAttemptedEnumerationStartTime\\\": \\\"2024-07-29T18:44:44.651Z\\\",\\r\\n  \\\"nameHighWaterMark\\\": null\\r\\n}\",\"finalTrackingState\":\"{\\\"LastFullEnumerationStartTime\\\":\\\"2024-07-29T18:44:14.6511448+00:00\\\",\\\"LastAttemptedEnumerationStartTime\\\":\\\"2024-07-29T18:44:14.6511448+00:00\\\",\\\"NameHighWaterMark\\\":null}\",\"mode\":\"indexingAllDocs\",\"errors\":[],\"warnings\":[],\"metrics\":null},{\"status\":\"success\",\"statusDetail\":null,\"errorMessage\":null,\"startTime\":\"2024-07-29T18:42:31.028Z\",\"endTime\":\"2024-07-29T18:43:35.401Z\",\"itemsProcessed\":10,\"itemsFailed\":0,\"initialTrackingState\":\"{\\r\\n  \\\"lastFullEnumerationStartTime\\\": \\\"0001-01-01T00:00:00Z\\\",\\r\\n  \\\"lastAttemptedEnumerationStartTime\\\": \\\"2024-07-29T18:42:31.056Z\\\",\\r\\n  \\\"nameHighWaterMark\\\": null\\r\\n}\",\"finalTrackingState\":\"{\\\"LastFullEnumerationStartTime\\\":\\\"2024-07-29T18:42:01.0564184+00:00\\\",\\\"LastAttemptedEnumerationStartTime\\\":\\\"2024-07-29T18:42:01.0564184+00:00\\\",\\\"NameHighWaterMark\\\":null}\",\"mode\":\"indexingAllDocs\",\"errors\":[],\"warnings\":[],\"metrics\":null},{\"status\":\"reset\",\"statusDetail\":null,\"errorMessage\":null,\"startTime\":\"2024-07-29T18:41:40.04Z\",\"endTime\":\"2024-07-29T18:41:40.04Z\",\"itemsProcessed\":0,\"itemsFailed\":0,\"initialTrackingState\":null,\"finalTrackingState\":null,\"mode\":\"indexingAllDocs\",\"errors\":[],\"warnings\":[],\"metrics\":null},{\"status\":\"reset\",\"statusDetail\":null,\"errorMessage\":null,\"startTime\":\"2024-07-29T18:41:13.73Z\",\"endTime\":\"2024-07-29T18:41:13.73Z\",\"itemsProcessed\":0,\"itemsFailed\":0,\"initialTrackingState\":null,\"finalTrackingState\":null,\"mode\":\"indexingAllDocs\",\"errors\":[],\"warnings\":[],\"metrics\":null},{\"status\":\"reset\",\"statusDetail\":null,\"errorMessage\":null,\"startTime\":\"2024-07-29T18:40:41.781Z\",\"endTime\":\"2024-07-29T18:40:41.781Z\",\"itemsProcessed\":0,\"itemsFailed\":0,\"initialTrackingState\":null,\"finalTrackingState\":null,\"mode\":\"indexingAllDocs\",\"errors\":[],\"warnings\":[],\"metrics\":null},{\"status\":\"reset\",\"statusDetail\":null,\"errorMessage\":null,\"startTime\":\"2024-07-29T18:39:07.916Z\",\"endTime\":\"2024-07-29T18:39:07.916Z\",\"itemsProcessed\":0,\"itemsFailed\":0,\"initialTrackingState\":null,\"finalTrackingState\":null,\"mode\":\"indexingAllDocs\",\"errors\":[],\"warnings\":[],\"metrics\":null},{\"status\":\"reset\",\"statusDetail\":null,\"errorMessage\":null,\"startTime\":\"2024-07-29T18:38:16.33Z\",\"endTime\":\"2024-07-29T18:38:16.33Z\",\"itemsProcessed\":0,\"itemsFailed\":0,\"initialTrackingState\":null,\"finalTrackingState\":null,\"mode\":\"indexingAllDocs\",\"errors\":[],\"warnings\":[],\"metrics\":null},{\"status\":\"reset\",\"statusDetail\":null,\"errorMessage\":null,\"startTime\":\"2024-07-29T18:37:43.133Z\",\"endTime\":\"2024-07-29T18:37:43.133Z\",\"itemsProcessed\":0,\"itemsFailed\":0,\"initialTrackingState\":null,\"finalTrackingState\":null,\"mode\":\"indexingAllDocs\",\"errors\":[],\"warnings\":[],\"metrics\":null},{\"status\":\"reset\",\"statusDetail\":null,\"errorMessage\":null,\"startTime\":\"2024-07-29T18:36:50.684Z\",\"endTime\":\"2024-07-29T18:36:50.684Z\",\"itemsProcessed\":0,\"itemsFailed\":0,\"initialTrackingState\":null,\"finalTrackingState\":null,\"mode\":\"indexingAllDocs\",\"errors\":[],\"warnings\":[],\"metrics\":null},{\"status\":\"reset\",\"statusDetail\":null,\"errorMessage\":null,\"startTime\":\"2024-07-29T18:36:17.021Z\",\"endTime\":\"2024-07-29T18:36:17.021Z\",\"itemsProcessed\":0,\"itemsFailed\":0,\"initialTrackingState\":null,\"finalTrackingState\":null,\"mode\":\"indexingAllDocs\",\"errors\":[],\"warnings\":[],\"metrics\":null},{\"status\":\"reset\",\"statusDetail\":null,\"errorMessage\":null,\"startTime\":\"2024-07-29T18:35:19.715Z\",\"endTime\":\"2024-07-29T18:35:19.715Z\",\"itemsProcessed\":0,\"itemsFailed\":0,\"initialTrackingState\":null,\"finalTrackingState\":null,\"mode\":\"indexingAllDocs\",\"errors\":[],\"warnings\":[],\"metrics\":null},{\"status\":\"reset\",\"statusDetail\":null,\"errorMessage\":null,\"startTime\":\"2024-07-29T18:34:37.102Z\",\"endTime\":\"2024-07-29T18:34:37.102Z\",\"itemsProcessed\":0,\"itemsFailed\":0,\"initialTrackingState\":null,\"finalTrackingState\":null,\"mode\":\"indexingAllDocs\",\"errors\":[],\"warnings\":[],\"metrics\":null},{\"status\":\"reset\",\"statusDetail\":null,\"errorMessage\":null,\"startTime\":\"2024-07-29T18:33:29.243Z\",\"endTime\":\"2024-07-29T18:33:29.243Z\",\"itemsProcessed\":0,\"itemsFailed\":0,\"initialTrackingState\":null,\"finalTrackingState\":null,\"mode\":\"indexingAllDocs\",\"errors\":[],\"warnings\":[],\"metrics\":null},{\"status\":\"reset\",\"statusDetail\":null,\"errorMessage\":null,\"startTime\":\"2024-07-29T18:32:48.546Z\",\"endTime\":\"2024-07-29T18:32:48.546Z\",\"itemsProcessed\":0,\"itemsFailed\":0,\"initialTrackingState\":null,\"finalTrackingState\":null,\"mode\":\"indexingAllDocs\",\"errors\":[],\"warnings\":[],\"metrics\":null},{\"status\":\"success\",\"statusDetail\":null,\"errorMessage\":null,\"startTime\":\"2024-07-29T18:14:12.283Z\",\"endTime\":\"2024-07-29T18:15:17.177Z\",\"itemsProcessed\":10,\"itemsFailed\":0,\"initialTrackingState\":\"{\\r\\n  \\\"lastFullEnumerationStartTime\\\": \\\"0001-01-01T00:00:00Z\\\",\\r\\n  \\\"lastAttemptedEnumerationStartTime\\\": \\\"2024-07-29T18:14:12.311Z\\\",\\r\\n  \\\"nameHighWaterMark\\\": null\\r\\n}\",\"finalTrackingState\":\"{\\\"LastFullEnumerationStartTime\\\":\\\"2024-07-29T18:13:42.3112197+00:00\\\",\\\"LastAttemptedEnumerationStartTime\\\":\\\"2024-07-29T18:13:42.3112197+00:00\\\",\\\"NameHighWaterMark\\\":null}\",\"mode\":\"indexingAllDocs\",\"errors\":[],\"warnings\":[],\"metrics\":null}],\"limits\":{\"maxRunTime\":\"PT2H\",\"maxDocumentExtractionSize\":16777216,\"maxDocumentContentCharactersToExtract\":65536},\"currentState\":{\"mode\":\"indexingAllDocs\",\"allDocsInitialTrackingState\":\"{\\r\\n  \\\"lastFullEnumerationStartTime\\\": \\\"2024-07-29T18:42:01.056Z\\\",\\r\\n  \\\"lastAttemptedEnumerationStartTime\\\": \\\"2024-07-29T18:44:44.651Z\\\",\\r\\n  \\\"nameHighWaterMark\\\": null\\r\\n}\",\"allDocsFinalTrackingState\":\"{\\\"LastFullEnumerationStartTime\\\":\\\"2024-07-29T18:44:14.6511448+00:00\\\",\\\"LastAttemptedEnumerationStartTime\\\":\\\"2024-07-29T18:44:14.6511448+00:00\\\",\\\"NameHighWaterMark\\\":null}\",\"resetDocsInitialTrackingState\":null,\"resetDocsFinalTrackingState\":null,\"resetDocumentKeys\":[],\"resetDatasourceDocumentIds\":[]}}\n"
     ]
    }
   ],
   "source": [
    "# get indexer status\n",
    "indexer_operations(search_config, \"example-indexer\", \"status\")"
   ]
  },
  {
   "cell_type": "code",
   "execution_count": 143,
   "metadata": {},
   "outputs": [
    {
     "name": "stdout",
     "output_type": "stream",
     "text": [
      "Success: <Response [204]>\n",
      "\n"
     ]
    }
   ],
   "source": [
    "# reset the indexer - this will trigger a re-index of all documents in the data source on the next run\n",
    "indexer_operations(search_config, \"example-indexer\", \"reset\")"
   ]
  },
  {
   "cell_type": "code",
   "execution_count": 152,
   "metadata": {},
   "outputs": [
    {
     "name": "stdout",
     "output_type": "stream",
     "text": [
      "Success: <Response [202]>\n",
      "\n"
     ]
    }
   ],
   "source": [
    "# run the indexer\n",
    "indexer_operations(search_config, \"example-indexer\", \"run\")"
   ]
  },
  {
   "cell_type": "code",
   "execution_count": null,
   "metadata": {},
   "outputs": [],
   "source": []
  }
 ],
 "metadata": {
  "kernelspec": {
   "display_name": "Python 3",
   "language": "python",
   "name": "python3"
  },
  "language_info": {
   "codemirror_mode": {
    "name": "ipython",
    "version": 3
   },
   "file_extension": ".py",
   "mimetype": "text/x-python",
   "name": "python",
   "nbconvert_exporter": "python",
   "pygments_lexer": "ipython3",
   "version": "3.10.11"
  }
 },
 "nbformat": 4,
 "nbformat_minor": 2
}
